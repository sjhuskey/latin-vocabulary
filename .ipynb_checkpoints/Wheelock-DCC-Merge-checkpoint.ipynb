{
 "cells": [
  {
   "cell_type": "code",
   "execution_count": 14,
   "id": "6a6ae026",
   "metadata": {},
   "outputs": [],
   "source": [
    "'''\n",
    "author: Samuel J. Huskey\n",
    "I created this notebook to clean and merge data from two CSV\n",
    "files containing Latin vocabulary words.\n",
    "'''\n",
    "import pandas as pd"
   ]
  },
  {
   "cell_type": "code",
   "execution_count": 15,
   "id": "7fae9d3a",
   "metadata": {},
   "outputs": [],
   "source": [
    "# Read in the csv files.\n",
    "wheelock = pd.read_csv('wheelock.csv')\n",
    "dcc = pd.read_csv('dcc-latin-core-list.csv')"
   ]
  },
  {
   "cell_type": "code",
   "execution_count": 23,
   "id": "51729420",
   "metadata": {},
   "outputs": [],
   "source": [
    "'''\n",
    "Merge the two dataframes using a left join on the Wheelock dataframe.\n",
    "'''\n",
    "merged = wheelock.merge(dcc, left_on='First Element', right_on='First Element', how='left')"
   ]
  },
  {
   "cell_type": "code",
   "execution_count": 24,
   "id": "27232f1e",
   "metadata": {},
   "outputs": [
    {
     "data": {
      "text/plain": [
       "Index(['Latin Word', 'First Element', 'Definition_x', 'Chapter', 'Unnamed: 4',\n",
       "       'Headword', 'Definition_y', 'Part of Speech', 'Semantic Group',\n",
       "       'Frequency Rank'],\n",
       "      dtype='object')"
      ]
     },
     "execution_count": 24,
     "metadata": {},
     "output_type": "execute_result"
    }
   ],
   "source": [
    "# View the columns from the merge.\n",
    "merged.columns"
   ]
  },
  {
   "cell_type": "code",
   "execution_count": 27,
   "id": "41a0bf95",
   "metadata": {},
   "outputs": [],
   "source": [
    "# Make a new dataframe with only the columns that I want.\n",
    "df = merged[['Latin Word', 'Definition_x', 'Chapter', 'Part of Speech', 'Semantic Group', 'Frequency Rank']]"
   ]
  },
  {
   "cell_type": "code",
   "execution_count": 29,
   "id": "ac603a14",
   "metadata": {},
   "outputs": [],
   "source": [
    "# Rename one of the columns.\n",
    "df = df.rename(columns={'Definition_x': 'Definition'})"
   ]
  },
  {
   "cell_type": "code",
   "execution_count": 31,
   "id": "44306806",
   "metadata": {},
   "outputs": [],
   "source": [
    "# Export the new dataframe to a csv.\n",
    "df.to_csv('wheelock-dcc.csv',index=False)"
   ]
  }
 ],
 "metadata": {
  "kernelspec": {
   "display_name": "Python 3",
   "language": "python",
   "name": "python3"
  },
  "language_info": {
   "codemirror_mode": {
    "name": "ipython",
    "version": 3
   },
   "file_extension": ".py",
   "mimetype": "text/x-python",
   "name": "python",
   "nbconvert_exporter": "python",
   "pygments_lexer": "ipython3",
   "version": "3.7.11"
  }
 },
 "nbformat": 4,
 "nbformat_minor": 5
}
